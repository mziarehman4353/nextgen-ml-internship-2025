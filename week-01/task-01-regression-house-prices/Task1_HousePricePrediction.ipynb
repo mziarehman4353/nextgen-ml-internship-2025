{
 "cells": [
  {
   "cell_type": "markdown",
   "id": "871b7ccc-8ec1-444c-b3df-86180c09b8b4",
   "metadata": {},
   "source": [
    "# Task 1: Predict House Prices using Linear Regression\n",
    "This notebook is part of the Machine Learning Internship – Week 1.  \n",
    "The goal is to predict median house prices using the California Housing dataset with a Linear Regression model.\n"
   ]
  },
  {
   "cell_type": "code",
   "execution_count": null,
   "id": "a3be14e4-7786-4fa7-be5c-ed51e3f76a3f",
   "metadata": {},
   "outputs": [],
   "source": [
    "import pandas as pd\n",
    "import numpy as np\n",
    "import matplotlib.pyplot as plt\n",
    "from sklearn.datasets import fetch_california_housing\n",
    "from sklearn.model_selection import train_test_split\n",
    "from sklearn.linear_model import LinearRegression\n",
    "from sklearn.metrics import mean_squared_error, r2_score\n"
   ]
  },
  {
   "cell_type": "code",
   "execution_count": null,
   "id": "8b3fd2ae-7cd6-4ee5-8c2b-642a2e774455",
   "metadata": {},
   "outputs": [],
   "source": [
    "# Load the California Housing dataset\n",
    "data = fetch_california_housing()\n",
    "\n",
    "# Convert to DataFrame\n",
    "df = pd.DataFrame(data.data, columns=data.feature_names)\n",
    "df['MedHouseVal'] = data.target  # Target column (median house value)\n"
   ]
  },
  {
   "cell_type": "code",
   "execution_count": null,
   "id": "dcea547f-bfc0-4e9f-8d3e-10bffdb8bbad",
   "metadata": {},
   "outputs": [],
   "source": [
    "# Preview the dataset\n",
    "print(\"First 5 rows:\")\n",
    "print(df.head())\n",
    "\n",
    "# Check data structure\n",
    "print(\"\\nData Information:\")\n",
    "print(df.info())\n",
    "\n",
    "# Show basic statistics\n",
    "print(\"\\nSummary Statistics:\")\n",
    "print(df.describe())\n"
   ]
  },
  {
   "cell_type": "code",
   "execution_count": null,
   "id": "1be308a7-6fd3-4fbf-ba61-499d2ee47811",
   "metadata": {},
   "outputs": [],
   "source": [
    "# Define features and target variable\n",
    "X = df.drop('MedHouseVal', axis=1)\n",
    "y = df['MedHouseVal']\n"
   ]
  },
  {
   "cell_type": "code",
   "execution_count": null,
   "id": "9d630826-277c-4588-a473-ef1162864a8f",
   "metadata": {},
   "outputs": [],
   "source": [
    "# Split the dataset into training and testing (80% train, 20% test)\n",
    "X_train, X_test, y_train, y_test = train_test_split(X, y, test_size=0.2, random_state=42)\n"
   ]
  },
  {
   "cell_type": "code",
   "execution_count": null,
   "id": "2743f4fc-d16c-47ce-b86c-8009ff8c5029",
   "metadata": {},
   "outputs": [],
   "source": [
    "# Create and train the model\n",
    "model = LinearRegression()\n",
    "model.fit(X_train, y_train)\n"
   ]
  },
  {
   "cell_type": "code",
   "execution_count": null,
   "id": "68fe9c88-1998-4a4b-bc27-21bce374a2c8",
   "metadata": {},
   "outputs": [],
   "source": [
    "# Make predictions\n",
    "y_pred = model.predict(X_test)\n",
    "\n",
    "# Evaluate the model\n",
    "mse = mean_squared_error(y_test, y_pred)\n",
    "r2 = r2_score(y_test, y_pred)\n",
    "\n",
    "print(\"Mean Squared Error (MSE):\", mse)\n",
    "print(\"R² Score:\", r2)\n"
   ]
  },
  {
   "cell_type": "code",
   "execution_count": null,
   "id": "fec8384e-ba08-4ffc-a81a-c71c451c23b9",
   "metadata": {},
   "outputs": [],
   "source": [
    "# Plot actual vs predicted values\n",
    "plt.figure(figsize=(8, 5))\n",
    "plt.scatter(y_test, y_pred, alpha=0.5, color='blue')\n",
    "plt.xlabel(\"Actual Median House Value\")\n",
    "plt.ylabel(\"Predicted Median House Value\")\n",
    "plt.title(\"Actual vs Predicted House Prices\")\n",
    "plt.grid(True)\n",
    "plt.show()\n"
   ]
  },
  {
   "cell_type": "code",
   "execution_count": null,
   "id": "ed9c8008-fa2c-489d-b3d3-fe9ee4009b06",
   "metadata": {},
   "outputs": [],
   "source": [
    "# Plot prediction error distribution\n",
    "errors = y_test - y_pred\n",
    "plt.figure(figsize=(8, 5))\n",
    "plt.hist(errors, bins=50, color='green', edgecolor='black')\n",
    "plt.title(\"Prediction Error Distribution\")\n",
    "plt.xlabel(\"Prediction Error\")\n",
    "plt.ylabel(\"Frequency\")\n",
    "plt.grid(True)\n",
    "plt.show()\n"
   ]
  },
  {
   "cell_type": "markdown",
   "id": "6fd8738d-ca4f-4e72-8a07-ff23647e0fcb",
   "metadata": {},
   "source": [
    "## Summary\n",
    "This week I learned the fundamentals of regression using supervised learning in Python.  \n",
    "I worked with the California Housing dataset to build a Linear Regression model that predicts median house prices  \n",
    "based on features like house age, number of rooms, and location.  \n",
    "I used scikit-learn to train and evaluate the model, and visualized both the prediction results  \n",
    "and error distribution. The R² score helped measure how well the model fit the data.  \n",
    "Overall, I gained hands-on experience in applying machine learning for real-world regression tasks.\n"
   ]
  }
 ],
 "metadata": {
  "kernelspec": {
   "display_name": "Python 3",
   "language": "python",
   "name": "python3"
  },
  "language_info": {
   "codemirror_mode": {
    "name": "ipython",
    "version": 3
   },
   "file_extension": ".py",
   "mimetype": "text/x-python",
   "name": "python",
   "nbconvert_exporter": "python",
   "pygments_lexer": "ipython3",
   "version": "3.13.2"
  }
 },
 "nbformat": 4,
 "nbformat_minor": 5
}
