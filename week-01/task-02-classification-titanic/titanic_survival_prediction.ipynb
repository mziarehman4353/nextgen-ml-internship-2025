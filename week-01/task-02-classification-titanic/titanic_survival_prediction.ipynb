{
 "cells": [
  {
   "cell_type": "markdown",
   "id": "b3b4ab88",
   "metadata": {},
   "source": [
    "# Task 2: Titanic Survival Prediction (Classification)\n"
   ]
  },
  {
   "cell_type": "code",
   "execution_count": null,
   "id": "6f1697a3",
   "metadata": {},
   "outputs": [],
   "source": [
    "\n",
    "import pandas as pd\n",
    "import numpy as np\n",
    "import matplotlib.pyplot as plt\n",
    "import seaborn as sns\n",
    "\n",
    "from sklearn.model_selection import train_test_split\n",
    "from sklearn.tree import DecisionTreeClassifier\n",
    "from sklearn.metrics import accuracy_score, confusion_matrix, ConfusionMatrixDisplay\n"
   ]
  },
  {
   "cell_type": "code",
   "execution_count": null,
   "id": "451b0f15",
   "metadata": {},
   "outputs": [],
   "source": [
    "# Load the dataset\n",
    "df = pd.read_csv(\"titanic.csv\")\n",
    "\n",
    "# Display first few rows\n",
    "df.head()\n"
   ]
  },
  {
   "cell_type": "code",
   "execution_count": null,
   "id": "03a95e2a",
   "metadata": {},
   "outputs": [],
   "source": [
    "# Check for missing values\n",
    "print(\"Missing values in each column:\")\n",
    "print(df.isnull().sum())\n"
   ]
  },
  {
   "cell_type": "code",
   "execution_count": null,
   "id": "639af1db",
   "metadata": {},
   "outputs": [],
   "source": [
    "# Drop columns that are not useful\n",
    "df.drop(['Cabin', 'Ticket', 'Name', 'PassengerId'], axis=1, inplace=True)\n",
    "\n",
    "# Fill missing 'Age' with the median\n",
    "df['Age'].fillna(df['Age'].median(), inplace=True)\n",
    "\n",
    "# Drop rows where 'Embarked' is missing\n",
    "df.dropna(subset=['Embarked'], inplace=True)\n",
    "\n",
    "# Confirm that no missing values remain\n",
    "print(df.isnull().sum())\n"
   ]
  },
  {
   "cell_type": "code",
   "execution_count": null,
   "id": "8b8d1537",
   "metadata": {},
   "outputs": [],
   "source": [
    "# Convert categorical columns to numeric\n",
    "df['Sex'] = df['Sex'].map({'male': 0, 'female': 1})\n",
    "df['Embarked'] = df['Embarked'].map({'S': 0, 'C': 1, 'Q': 2})\n"
   ]
  },
  {
   "cell_type": "code",
   "execution_count": null,
   "id": "e719cae8",
   "metadata": {},
   "outputs": [],
   "source": [
    "# Define features (X) and label (y)\n",
    "X = df.drop('Survived', axis=1)\n",
    "y = df['Survived']\n"
   ]
  },
  {
   "cell_type": "code",
   "execution_count": null,
   "id": "c716080e",
   "metadata": {},
   "outputs": [],
   "source": [
    "# Split into training and testing sets (80% train, 20% test)\n",
    "X_train, X_test, y_train, y_test = train_test_split(X, y, test_size=0.2, random_state=42)\n"
   ]
  },
  {
   "cell_type": "code",
   "execution_count": null,
   "id": "ca22fe6e",
   "metadata": {},
   "outputs": [],
   "source": [
    "# Create and train the model\n",
    "model = DecisionTreeClassifier(random_state=42)\n",
    "model.fit(X_train, y_train)\n"
   ]
  },
  {
   "cell_type": "code",
   "execution_count": null,
   "id": "30e4490a",
   "metadata": {},
   "outputs": [],
   "source": [
    "# Make predictions\n",
    "y_pred = model.predict(X_test)\n",
    "\n",
    "# Evaluate accuracy\n",
    "accuracy = accuracy_score(y_test, y_pred)\n",
    "print(\"Accuracy:\", accuracy)\n"
   ]
  },
  {
   "cell_type": "code",
   "execution_count": null,
   "id": "d1ac2030",
   "metadata": {},
   "outputs": [],
   "source": [
    "# Plot confusion matrix\n",
    "cm = confusion_matrix(y_test, y_pred)\n",
    "disp = ConfusionMatrixDisplay(confusion_matrix=cm, display_labels=model.classes_)\n",
    "disp.plot(cmap='Blues')\n",
    "plt.title(\"Confusion Matrix\")\n",
    "plt.show()\n"
   ]
  },
  {
   "cell_type": "code",
   "execution_count": null,
   "id": "288daa9e",
   "metadata": {},
   "outputs": [],
   "source": [
    "# Plot survival count\n",
    "sns.countplot(data=df, x='Survived', palette='Set2')\n",
    "plt.title(\"Survival Count (0 = Died, 1 = Survived)\")\n",
    "plt.xlabel(\"Survival\")\n",
    "plt.ylabel(\"Passenger Count\")\n",
    "plt.show()\n"
   ]
  },
  {
   "cell_type": "code",
   "execution_count": null,
   "id": "441bdcfd",
   "metadata": {},
   "outputs": [],
   "source": [
    "# Plot survival by gender\n",
    "sns.countplot(data=df, x='Sex', hue='Survived', palette='Set1')\n",
    "plt.title(\"Survival by Gender (0 = Male, 1 = Female)\")\n",
    "plt.xlabel(\"Sex\")\n",
    "plt.ylabel(\"Count\")\n",
    "plt.legend(title=\"Survived\")\n",
    "plt.show()\n"
   ]
  },
  {
   "cell_type": "code",
   "execution_count": null,
   "id": "25575546",
   "metadata": {},
   "outputs": [],
   "source": [
    "# Plot age distribution\n",
    "sns.histplot(data=df, x='Age', hue='Survived', bins=30, kde=True, palette='pastel')\n",
    "plt.title(\"Age Distribution: Survived vs Not Survived\")\n",
    "plt.xlabel(\"Age\")\n",
    "plt.ylabel(\"Frequency\")\n",
    "plt.show()\n"
   ]
  },
  {
   "cell_type": "markdown",
   "id": "4599787e",
   "metadata": {},
   "source": [
    "## Summary\n",
    "\n",
    "In Task 2, I learned how to build a classification model using a Decision Tree to predict Titanic passenger survival.\n",
    "I started by cleaning and preprocessing the dataset — handling missing values, dropping irrelevant columns, and encoding categorical features.\n",
    "I trained a Decision Tree Classifier and evaluated it using accuracy and a confusion matrix.\n",
    "I also visualized survival trends by gender and age, which helped me better understand the data distribution and model performance.\n",
    "This task improved my understanding of data cleaning, feature encoding, and classification evaluation.\n"
   ]
  }
 ],
 "metadata": {
  "kernelspec": {
   "display_name": "Python 3",
   "language": "python",
   "name": "python3"
  },
  "language_info": {
   "codemirror_mode": {
    "name": "ipython",
    "version": 3
   },
   "file_extension": ".py",
   "mimetype": "text/x-python",
   "name": "python",
   "nbconvert_exporter": "python",
   "pygments_lexer": "ipython3",
   "version": "3.13.2"
  }
 },
 "nbformat": 4,
 "nbformat_minor": 5
}
