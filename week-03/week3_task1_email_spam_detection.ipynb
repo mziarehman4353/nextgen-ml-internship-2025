{
 "cells": [
  {
   "cell_type": "markdown",
   "id": "ba333c53",
   "metadata": {},
   "source": [
    "# Week 3 – Task 1: Email Spam Detection using Semi-Supervised Learning\n",
    "\n",
    "In this task, we apply semi-supervised learning on the SMS Spam Collection dataset. We'll label only a portion of the data (20%) and use `LabelSpreading` to classify the rest.\n"
   ]
  },
  {
   "cell_type": "code",
   "execution_count": null,
   "id": "f5e9afb4",
   "metadata": {},
   "outputs": [],
   "source": [
    "import pandas as pd\n",
    "import numpy as np\n",
    "import matplotlib.pyplot as plt\n",
    "import seaborn as sns\n",
    "\n",
    "from sklearn.feature_extraction.text import TfidfVectorizer\n",
    "from sklearn.semi_supervised import LabelSpreading\n",
    "from sklearn.model_selection import train_test_split\n",
    "from sklearn.metrics import classification_report, accuracy_score\n",
    "from sklearn.preprocessing import LabelEncoder\n",
    "import re\n"
   ]
  },
  {
   "cell_type": "code",
   "execution_count": null,
   "id": "3eb3a041",
   "metadata": {},
   "outputs": [],
   "source": [
    "# Load dataset from GitHub\n",
    "url = \"https://raw.githubusercontent.com/justmarkham/pycon-2016-tutorial/master/data/sms.tsv\"\n",
    "df = pd.read_csv(url, sep='\\t', header=None, names=['label', 'message'])\n",
    "\n",
    "# Preview dataset\n",
    "df.head()\n"
   ]
  },
  {
   "cell_type": "code",
   "execution_count": null,
   "id": "58d71147",
   "metadata": {},
   "outputs": [],
   "source": [
    "# Clean text: lowercase and remove non-alphabetic characters\n",
    "def clean_text(text):\n",
    "    text = text.lower()\n",
    "    text = re.sub(r'[^a-z\\s]', '', text)\n",
    "    return text\n",
    "\n",
    "df['clean_message'] = df['message'].apply(clean_text)\n",
    "\n",
    "# Encode labels\n",
    "le = LabelEncoder()\n",
    "df['label_num'] = le.fit_transform(df['label'])  # spam = 1, ham = 0\n"
   ]
  },
  {
   "cell_type": "code",
   "execution_count": null,
   "id": "265703f4",
   "metadata": {},
   "outputs": [],
   "source": [
    "# Vectorize text\n",
    "vectorizer = TfidfVectorizer(stop_words='english')\n",
    "X = vectorizer.fit_transform(df['clean_message'])\n",
    "y = df['label_num'].values\n"
   ]
  },
  {
   "cell_type": "code",
   "execution_count": null,
   "id": "a7d09775",
   "metadata": {},
   "outputs": [],
   "source": [
    "# Set random seed for reproducibility\n",
    "np.random.seed(42)\n",
    "\n",
    "# Make 20% of labels available (the rest will be -1 for unlabeled)\n",
    "y_semi = np.copy(y)\n",
    "n_labeled = int(0.2 * len(y))\n",
    "\n",
    "# Randomly choose indices to keep labels\n",
    "labeled_indices = np.random.choice(len(y), size=n_labeled, replace=False)\n",
    "unlabeled_indices = np.setdiff1d(np.arange(len(y)), labeled_indices)\n",
    "\n",
    "# Mask 80% as unlabeled\n",
    "y_semi[unlabeled_indices] = -1\n"
   ]
  },
  {
   "cell_type": "code",
   "execution_count": null,
   "id": "36eb78e5",
   "metadata": {},
   "outputs": [],
   "source": [
    "# Train semi-supervised model\n",
    "model = LabelSpreading(kernel='rbf', alpha=0.2)\n",
    "model.fit(X, y_semi)\n",
    "\n",
    "# Predict full set\n",
    "y_pred = model.predict(X)\n",
    "\n",
    "# Evaluate only on originally labeled data\n",
    "print(\"Evaluation on all data:\")\n",
    "print(classification_report(y, y_pred, target_names=le.classes_))\n"
   ]
  },
  {
   "cell_type": "markdown",
   "id": "7ba79cc6",
   "metadata": {},
   "source": [
    "## Summary\n",
    "\n",
    "In this task, we implemented a semi-supervised learning approach to spam detection using the SMS Spam Collection dataset.\n",
    "We used `LabelSpreading` with only 20% labeled data and successfully predicted the rest.\n",
    "Text preprocessing included lowercasing and cleaning, followed by TF-IDF vectorization.\n",
    "The model achieved reasonable performance using limited supervision, demonstrating how semi-supervised learning can be effective in real-world scenarios with scarce labeled data.\n"
   ]
  }
 ],
 "metadata": {
  "kernelspec": {
   "display_name": "Python 3",
   "language": "python",
   "name": "python3"
  },
  "language_info": {
   "codemirror_mode": {
    "name": "ipython",
    "version": 3
   },
   "file_extension": ".py",
   "mimetype": "text/x-python",
   "name": "python",
   "nbconvert_exporter": "python",
   "pygments_lexer": "ipython3",
   "version": "3.13.2"
  }
 },
 "nbformat": 4,
 "nbformat_minor": 5
}
