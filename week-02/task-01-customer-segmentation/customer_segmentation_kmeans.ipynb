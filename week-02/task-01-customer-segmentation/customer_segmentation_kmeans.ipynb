{
 "cells": [
  {
   "cell_type": "markdown",
   "id": "e2954f1f",
   "metadata": {},
   "source": [
    "# Week 2 – Task 1: Customer Segmentation using K-Means Clustering\n"
   ]
  },
  {
   "cell_type": "code",
   "execution_count": null,
   "id": "a1edaad3",
   "metadata": {},
   "outputs": [],
   "source": [
    "import pandas as pd\n",
    "import numpy as np\n",
    "import matplotlib.pyplot as plt\n",
    "import seaborn as sns\n",
    "from sklearn.cluster import KMeans\n"
   ]
  },
  {
   "cell_type": "code",
   "execution_count": null,
   "id": "fab1d94c",
   "metadata": {},
   "outputs": [],
   "source": [
    "# Define column name constants\n",
    "INCOME_COL = 'Annual Income (k$)'\n",
    "SCORE_COL = 'Spending Score (1-100)'\n"
   ]
  },
  {
   "cell_type": "code",
   "execution_count": null,
   "id": "d7ea3056",
   "metadata": {},
   "outputs": [],
   "source": [
    "# Load dataset\n",
    "df = pd.read_csv(\"Mall_Customers.csv\")\n",
    "df.head()\n"
   ]
  },
  {
   "cell_type": "code",
   "execution_count": null,
   "id": "3747e31a",
   "metadata": {},
   "outputs": [],
   "source": [
    "# Overview\n",
    "df.info()\n",
    "\n",
    "# Check for missing values\n",
    "print(df.isnull().sum())\n"
   ]
  },
  {
   "cell_type": "code",
   "execution_count": null,
   "id": "7c25e1af",
   "metadata": {},
   "outputs": [],
   "source": [
    "# Summary statistics\n",
    "df.describe()\n"
   ]
  },
  {
   "cell_type": "code",
   "execution_count": null,
   "id": "6516bcbe",
   "metadata": {},
   "outputs": [],
   "source": [
    "# Plot distribution of Age\n",
    "sns.histplot(df['Age'], kde=True, bins=20, color='skyblue')\n",
    "plt.title(\"Age Distribution\")\n",
    "plt.show()\n",
    "\n",
    "# Plot distribution of Annual Income\n",
    "sns.histplot(df[INCOME_COL], kde=True, bins=20, color='orange')\n",
    "plt.title(\"Annual Income Distribution\")\n",
    "plt.show()\n",
    "\n",
    "# Plot distribution of Spending Score\n",
    "sns.histplot(df[SCORE_COL], kde=True, bins=20, color='green')\n",
    "plt.title(\"Spending Score Distribution\")\n",
    "plt.show()\n"
   ]
  },
  {
   "cell_type": "code",
   "execution_count": null,
   "id": "6ea39107",
   "metadata": {},
   "outputs": [],
   "source": [
    "sns.boxplot(data=df, x='Genre', y=SCORE_COL, palette='Set3')\n",
    "plt.title(\"Spending Score by Gender\")\n",
    "plt.show()\n"
   ]
  },
  {
   "cell_type": "code",
   "execution_count": null,
   "id": "39d3948c",
   "metadata": {},
   "outputs": [],
   "source": [
    "sns.scatterplot(data=df, x=INCOME_COL, y=SCORE_COL, color='purple')\n",
    "plt.title(\"INCOME_COL vs Spending Score\")\n",
    "plt.show()\n"
   ]
  },
  {
   "cell_type": "code",
   "execution_count": null,
   "id": "84006053",
   "metadata": {},
   "outputs": [],
   "source": [
    "# Select relevant features for clustering\n",
    "X = df[[INCOME_COL, SCORE_COL]]\n"
   ]
  },
  {
   "cell_type": "code",
   "execution_count": null,
   "id": "65edbc81",
   "metadata": {},
   "outputs": [],
   "source": [
    "# Elbow method to determine optimal k\n",
    "wcss = []\n",
    "\n",
    "for i in range(1, 11):\n",
    "    kmeans = KMeans(n_clusters=i, init='k-means++', random_state=42)\n",
    "    kmeans.fit(X)\n",
    "    wcss.append(kmeans.inertia_)\n",
    "\n",
    "# Plot elbow curve\n",
    "plt.plot(range(1, 11), wcss, marker='o', color='teal')\n",
    "plt.title(\"Elbow Method\")\n",
    "plt.xlabel(\"Number of Clusters\")\n",
    "plt.ylabel(\"WCSS (Within-Cluster Sum of Squares)\")\n",
    "plt.grid(True)\n",
    "plt.show()\n"
   ]
  },
  {
   "cell_type": "code",
   "execution_count": null,
   "id": "a97ea7eb",
   "metadata": {},
   "outputs": [],
   "source": [
    "# Train final model with k = 5\n",
    "kmeans = KMeans(n_clusters=5, init='k-means++', random_state=42)\n",
    "y_kmeans = kmeans.fit_predict(X)\n",
    "\n",
    "# Add cluster labels to DataFrame\n",
    "df['Cluster'] = y_kmeans\n"
   ]
  },
  {
   "cell_type": "code",
   "execution_count": null,
   "id": "fdd42707",
   "metadata": {},
   "outputs": [],
   "source": [
    "# Visualize the clusters\n",
    "plt.figure(figsize=(8,6))\n",
    "sns.scatterplot(x=INCOME_COL, y=SCORE_COL, \n",
    "                hue='Cluster', data=df, palette='Set2', s=100)\n",
    "plt.title(\"Customer Segments by K-Means Clustering\")\n",
    "plt.xlabel(\"INCOME_COL (k$)\")\n",
    "plt.ylabel(\"SCORE_COL\")\n",
    "plt.legend(title=\"Cluster\")\n",
    "plt.grid(True)\n",
    "plt.show()\n"
   ]
  },
  {
   "cell_type": "code",
   "execution_count": null,
   "id": "35bf8eec",
   "metadata": {},
   "outputs": [],
   "source": [
    "# Cluster statistics\n",
    "df.groupby('Cluster')[['Age', INCOME_COL, SCORE_COL]].mean()\n"
   ]
  },
  {
   "cell_type": "markdown",
   "id": "d62abf2e",
   "metadata": {},
   "source": [
    "## Summary\n",
    "\n",
    "In this task, I used unsupervised learning (K-Means Clustering) to segment customers based on their Annual Income and Spending Score.\n",
    "I started by exploring the dataset and visualizing distributions, then used the elbow method to determine the optimal number of clusters.\n",
    "After training the K-Means model, I assigned each customer to a segment and visualized the resulting clusters.\n",
    "This exercise helped me understand how clustering works and how it can be used in marketing to target different types of customers.\n"
   ]
  }
 ],
 "metadata": {
  "kernelspec": {
   "display_name": "Python 3",
   "language": "python",
   "name": "python3"
  },
  "language_info": {
   "codemirror_mode": {
    "name": "ipython",
    "version": 3
   },
   "file_extension": ".py",
   "mimetype": "text/x-python",
   "name": "python",
   "nbconvert_exporter": "python",
   "pygments_lexer": "ipython3",
   "version": "3.13.2"
  }
 },
 "nbformat": 4,
 "nbformat_minor": 5
}
